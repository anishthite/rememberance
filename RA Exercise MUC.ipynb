{
 "cells": [
  {
   "cell_type": "code",
   "execution_count": 50,
   "id": "625c7979",
   "metadata": {},
   "outputs": [],
   "source": [
    "import pandas as pd\n",
    "import matplotlib.pyplot as plt\n",
    "from scipy import stats"
   ]
  },
  {
   "cell_type": "code",
   "execution_count": 34,
   "id": "ad8e2fb4",
   "metadata": {
    "scrolled": true
   },
   "outputs": [],
   "source": [
    "#remove first 5 responses\n",
    "df = pd.read_csv('EXERCISE Head Worn Displays Quiz Student Analysis Report.csv')[5:]"
   ]
  },
  {
   "cell_type": "code",
   "execution_count": 35,
   "id": "0d808280",
   "metadata": {},
   "outputs": [],
   "source": [
    "#remove bad columns\n",
    "df = df.drop([x for i, x in enumerate(df.columns) if i % 2 == 1], axis=1)\n",
    "df = df.drop(['Unnamed: 0', 'Unnamed: 14', 'n correct', 'score'], axis=1)"
   ]
  },
  {
   "cell_type": "code",
   "execution_count": 36,
   "id": "276b990b",
   "metadata": {},
   "outputs": [],
   "source": [
    "#find nan, replace with ''\n",
    "df[df.isna().any(axis=1)]\n",
    "df.fillna('', inplace=True)"
   ]
  },
  {
   "cell_type": "code",
   "execution_count": 37,
   "id": "bb2157eb",
   "metadata": {},
   "outputs": [],
   "source": [
    "#convert string to int answers\n",
    "def string_to_int(x):\n",
    "    if len(x) > 0 and x[0].isnumeric():\n",
    "        return int(x[0])\n",
    "    return x\n",
    "df = df.applymap(string_to_int)"
   ]
  },
  {
   "cell_type": "code",
   "execution_count": 38,
   "id": "7efc7ebf",
   "metadata": {},
   "outputs": [],
   "source": [
    "#split columns\n",
    "eddf = df[df.columns[:6]]\n",
    "fsdf = df[df.columns[6:]]"
   ]
  },
  {
   "cell_type": "markdown",
   "id": "25140d56",
   "metadata": {},
   "source": [
    "# Simple Mean detection, it was a lot better!"
   ]
  },
  {
   "cell_type": "code",
   "execution_count": 39,
   "id": "bde49951",
   "metadata": {},
   "outputs": [
    {
     "name": "stdout",
     "output_type": "stream",
     "text": [
      "E Domain (With RA)\n",
      " The interviewee made sufficient eye contact Mean: 5.545454545454546\n",
      " The interviewee gave specific and detailed answers Mean: 6.212121212121212\n",
      " The interviewee's answers were relevant and non-contradictory Mean: 5.803030303030303\n",
      " The interviewee was engaged in the conversation Mean: 6.03030303030303\n",
      " The interviewee had good pacing, with no awkward pauses Mean: 5.7727272727272725\n",
      "Free Speech (Without RA)\n",
      " The interviewee made sufficient eye contact Mean: 4.2727272727272725\n",
      " The interviewee gave specific and detailed answers Mean: 4.954545454545454\n",
      " The interviewee's answers were relevant and non-contradictory Mean: 4.818181818181818\n",
      " The interviewee was engaged in the conversation Mean: 5.484848484848484\n",
      " The interviewee had good pacing, with no awkward pauses Mean: 4.257575757575758\n"
     ]
    }
   ],
   "source": [
    "print(\"E Domain (With RA)\")\n",
    "for col in eddf.columns[:-1]:\n",
    "    print(f\"{col.split(':')[-1]} Mean: {eddf[col].mean()}\")\n",
    "\n",
    "print(\"Free Speech (Without RA)\")\n",
    "for col in fsdf.columns[:-1]:\n",
    "    print(f\"{col.split(':')[-1]} Mean: {fsdf[col].mean()}\")"
   ]
  },
  {
   "cell_type": "markdown",
   "id": "355093f1",
   "metadata": {},
   "source": [
    "# More complex Summary Statistics"
   ]
  },
  {
   "cell_type": "code",
   "execution_count": 40,
   "id": "109cd2d1",
   "metadata": {},
   "outputs": [
    {
     "data": {
      "text/plain": [
       "Index(['8574369: Eminent Domain Video: The interviewee made sufficient eye contact',\n",
       "       '8574371: Eminent Domain Video: The interviewee gave specific and detailed answers',\n",
       "       '8574373: Eminent Domain Video: The interviewee's answers were relevant and non-contradictory',\n",
       "       '8574375: Eminent Domain Video: The interviewee was engaged in the conversation',\n",
       "       '8574381: Eminent Domain Video: The interviewee had good pacing, with no awkward pauses',\n",
       "       '8574383: Eminent Domain Video: Did you notice anything out of place, odd, or distracting in the session?',\n",
       "       '8574705: Free Speech Video: The interviewee made sufficient eye contact',\n",
       "       '8574707: Free Speech Video: The interviewee gave specific and detailed answers',\n",
       "       '8574713: Free Speech Video: The interviewee's answers were relevant and non-contradictory',\n",
       "       '8574715: Free Speech Video: The interviewee was engaged in the conversation',\n",
       "       '8574717: Free Speech Video: The interviewee had good pacing, with no awkward pauses',\n",
       "       '8574719: Free Speech and Eminent Domain Videos: Did you notice anything out of place, odd, or distracting in either/both of the sessions?'],\n",
       "      dtype='object')"
      ]
     },
     "execution_count": 40,
     "metadata": {},
     "output_type": "execute_result"
    }
   ],
   "source": [
    "df.columns"
   ]
  },
  {
   "cell_type": "code",
   "execution_count": 41,
   "id": "e4af3dfa",
   "metadata": {},
   "outputs": [
    {
     "name": "stdout",
     "output_type": "stream",
     "text": [
      "       8574369: Eminent Domain Video: The interviewee made sufficient eye contact  \\\n",
      "count                                          66.000000                            \n",
      "mean                                            5.545455                            \n",
      "std                                             1.069606                            \n",
      "min                                             3.000000                            \n",
      "25%                                             5.000000                            \n",
      "50%                                             6.000000                            \n",
      "75%                                             6.000000                            \n",
      "max                                             7.000000                            \n",
      "\n",
      "       8574705: Free Speech Video: The interviewee made sufficient eye contact  \n",
      "count                                          66.000000                        \n",
      "mean                                            4.272727                        \n",
      "std                                             1.420135                        \n",
      "min                                             1.000000                        \n",
      "25%                                             3.000000                        \n",
      "50%                                             5.000000                        \n",
      "75%                                             5.000000                        \n",
      "max                                             7.000000                        \n",
      "\n",
      "\n",
      "\n",
      "\n",
      "\n",
      "       8574371: Eminent Domain Video: The interviewee gave specific and detailed answers  \\\n",
      "count                                          66.000000                                   \n",
      "mean                                            6.212121                                   \n",
      "std                                             0.813637                                   \n",
      "min                                             3.000000                                   \n",
      "25%                                             6.000000                                   \n",
      "50%                                             6.000000                                   \n",
      "75%                                             7.000000                                   \n",
      "max                                             7.000000                                   \n",
      "\n",
      "       8574707: Free Speech Video: The interviewee gave specific and detailed answers  \n",
      "count                                          66.000000                               \n",
      "mean                                            4.954545                               \n",
      "std                                             1.208073                               \n",
      "min                                             1.000000                               \n",
      "25%                                             4.000000                               \n",
      "50%                                             5.000000                               \n",
      "75%                                             6.000000                               \n",
      "max                                             7.000000                               \n",
      "\n",
      "\n",
      "\n",
      "\n",
      "\n",
      "       8574373: Eminent Domain Video: The interviewee's answers were relevant and non-contradictory  \\\n",
      "count                                          66.000000                                              \n",
      "mean                                            5.803030                                              \n",
      "std                                             0.995678                                              \n",
      "min                                             3.000000                                              \n",
      "25%                                             5.000000                                              \n",
      "50%                                             6.000000                                              \n",
      "75%                                             6.000000                                              \n",
      "max                                             7.000000                                              \n",
      "\n",
      "       8574713: Free Speech Video: The interviewee's answers were relevant and non-contradictory  \n",
      "count                                          66.000000                                          \n",
      "mean                                            4.818182                                          \n",
      "std                                             1.287921                                          \n",
      "min                                             2.000000                                          \n",
      "25%                                             4.000000                                          \n",
      "50%                                             5.000000                                          \n",
      "75%                                             6.000000                                          \n",
      "max                                             7.000000                                          \n",
      "\n",
      "\n",
      "\n",
      "\n",
      "\n",
      "       8574375: Eminent Domain Video: The interviewee was engaged in the conversation  \\\n",
      "count                                          66.000000                                \n",
      "mean                                            6.030303                                \n",
      "std                                             0.960284                                \n",
      "min                                             3.000000                                \n",
      "25%                                             6.000000                                \n",
      "50%                                             6.000000                                \n",
      "75%                                             7.000000                                \n",
      "max                                             7.000000                                \n",
      "\n",
      "       8574715: Free Speech Video: The interviewee was engaged in the conversation  \n",
      "count                                          66.000000                            \n",
      "mean                                            5.484848                            \n",
      "std                                             0.980462                            \n",
      "min                                             2.000000                            \n",
      "25%                                             5.000000                            \n",
      "50%                                             6.000000                            \n",
      "75%                                             6.000000                            \n",
      "max                                             7.000000                            \n",
      "\n",
      "\n",
      "\n",
      "\n",
      "\n",
      "       8574381: Eminent Domain Video: The interviewee had good pacing, with no awkward pauses  \\\n",
      "count                                          66.000000                                        \n",
      "mean                                            5.772727                                        \n",
      "std                                             1.160841                                        \n",
      "min                                             2.000000                                        \n",
      "25%                                             5.000000                                        \n",
      "50%                                             6.000000                                        \n",
      "75%                                             7.000000                                        \n",
      "max                                             7.000000                                        \n",
      "\n",
      "       8574717: Free Speech Video: The interviewee had good pacing, with no awkward pauses  \n",
      "count                                          66.000000                                    \n",
      "mean                                            4.257576                                    \n",
      "std                                             1.481274                                    \n",
      "min                                             1.000000                                    \n",
      "25%                                             3.000000                                    \n",
      "50%                                             5.000000                                    \n",
      "75%                                             5.000000                                    \n",
      "max                                             6.000000                                    \n",
      "\n",
      "\n",
      "\n",
      "\n",
      "\n"
     ]
    }
   ],
   "source": [
    "for i, col in enumerate(df.columns[:5]):\n",
    "    print(df[[col, df.columns[i+6]]].describe())\n",
    "    print('\\n\\n\\n\\n')"
   ]
  },
  {
   "cell_type": "code",
   "execution_count": 49,
   "id": "a9bcaffb",
   "metadata": {},
   "outputs": [
    {
     "name": "stderr",
     "output_type": "stream",
     "text": [
      "/home/anishthite/miniconda3/envs/simgan-cgp/lib/python3.7/site-packages/ipykernel_launcher.py:6: UserWarning: FixedFormatter should only be used together with FixedLocator\n",
      "  \n"
     ]
    },
    {
     "data": {
      "image/png": "[encoded data removed]",
      "text/plain": [
       "<Figure size 432x288 with 1 Axes>"
      ]
     },
     "metadata": {
      "needs_background": "light"
     },
     "output_type": "display_data"
    },
    {
     "name": "stderr",
     "output_type": "stream",
     "text": [
      "/home/anishthite/miniconda3/envs/simgan-cgp/lib/python3.7/site-packages/ipykernel_launcher.py:6: UserWarning: FixedFormatter should only be used together with FixedLocator\n",
      "  \n"
     ]
    },
    {
     "data": {
      "image/png": "[encoded data removed]",
      "text/plain": [
       "<Figure size 432x288 with 1 Axes>"
      ]
     },
     "metadata": {
      "needs_background": "light"
     },
     "output_type": "display_data"
    },
    {
     "name": "stderr",
     "output_type": "stream",
     "text": [
      "/home/anishthite/miniconda3/envs/simgan-cgp/lib/python3.7/site-packages/ipykernel_launcher.py:6: UserWarning: FixedFormatter should only be used together with FixedLocator\n",
      "  \n"
     ]
    },
    {
     "data": {
      "image/png": "[encoded data removed]",
      "text/plain": [
       "<Figure size 432x288 with 1 Axes>"
      ]
     },
     "metadata": {
      "needs_background": "light"
     },
     "output_type": "display_data"
    },
    {
     "name": "stderr",
     "output_type": "stream",
     "text": [
      "/home/anishthite/miniconda3/envs/simgan-cgp/lib/python3.7/site-packages/ipykernel_launcher.py:6: UserWarning: FixedFormatter should only be used together with FixedLocator\n",
      "  \n"
     ]
    },
    {
     "data": {
      "image/png": "[encoded data removed]",
      "text/plain": [
       "<Figure size 432x288 with 1 Axes>"
      ]
     },
     "metadata": {
      "needs_background": "light"
     },
     "output_type": "display_data"
    },
    {
     "name": "stderr",
     "output_type": "stream",
     "text": [
      "/home/anishthite/miniconda3/envs/simgan-cgp/lib/python3.7/site-packages/ipykernel_launcher.py:6: UserWarning: FixedFormatter should only be used together with FixedLocator\n",
      "  \n"
     ]
    },
    {
     "data": {
      "image/png": "[encoded data removed]",
      "text/plain": [
       "<Figure size 432x288 with 1 Axes>"
      ]
     },
     "metadata": {
      "needs_background": "light"
     },
     "output_type": "display_data"
    }
   ],
   "source": [
    "bplots = []\n",
    "for i, col in enumerate(df.columns[:5]):\n",
    "    fig, ax = plt.subplots()\n",
    "    b = df.boxplot([col, df.columns[i+6]])\n",
    "    ax.set_xticklabels(['Eminent Domain (With RA)','Free Speech (Without RA)'])\n",
    "    ax.set_yticklabels(['', 'Strongly Disagree: 1', '2', '3', 'Neutral: 4', '5', '6', 'Strongly Agree: 7'])\n",
    "    plt.title(col.split(': ')[-1])\n",
    "    ax.grid(False)\n",
    "    plt.savefig(col.split(': ')[-1] + '.png')\n",
    "    plt.show()"
   ]
  },
  {
   "cell_type": "code",
   "execution_count": 68,
   "id": "1430d17b",
   "metadata": {
    "scrolled": true
   },
   "outputs": [
    {
     "name": "stdout",
     "output_type": "stream",
     "text": [
      "Question: The interviewee made sufficient eye contact Statistic: 5.815755226069746 P Value: 4.434216389664779e-08)\n",
      "Question: The interviewee gave specific and detailed answers Statistic: 7.014394918519988 P Value: 1.13654406852462e-10)\n",
      "Question: The interviewee's answers were relevant and non-contradictory Statistic: 4.914834540193683 P Value: 2.6263943680774026e-06)\n",
      "Question: The interviewee was engaged in the conversation Statistic: 3.22889184926616 P Value: 0.0015734824245797203)\n",
      "Question: The interviewee had good pacing, with no awkward pauses Statistic: 6.540645591568797 P Value: 1.2794038252846018e-09)\n"
     ]
    }
   ],
   "source": [
    "for i, col in enumerate(df.columns[:5]):\n",
    "    #print(col)\n",
    "    s, p = stats.ttest_ind(df[col], df[df.columns[i+6]])\n",
    "    print(f\"Question: {col.split(': ')[-1]} Statistic: {s} P Value: {p})\")"
   ]
  }
 ],
 "metadata": {
  "kernelspec": {
   "display_name": "Python 3 (ipykernel)",
   "language": "python",
   "name": "python3"
  },
  "language_info": {
   "codemirror_mode": {
    "name": "ipython",
    "version": 3
   },
   "file_extension": ".py",
   "mimetype": "text/x-python",
   "name": "python",
   "nbconvert_exporter": "python",
   "pygments_lexer": "ipython3",
   "version": "3.7.11"
  }
 },
 "nbformat": 4,
 "nbformat_minor": 5
}
